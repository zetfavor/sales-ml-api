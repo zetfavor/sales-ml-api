{
 "cells": [
  {
   "cell_type": "code",
   "execution_count": 5,
   "id": "1f6baecf-f406-486a-8b26-9b6068a4abbe",
   "metadata": {},
   "outputs": [
    {
     "name": "stdout",
     "output_type": "stream",
     "text": [
      "D:\\Projects\\sales-ml\n",
      "Modules imported successfully.\n"
     ]
    }
   ],
   "source": [
    "%cd ..\n",
    "# This line above changes the directory to D:\\Projects\\sales-ml\n",
    "\n",
    "# %% Imports\n",
    "import mlflow\n",
    "\n",
    "# Import our custom source-code modules\n",
    "# (This works because you marked 'src' as a Sources Root in PyCharm,\n",
    "# and JupyterLab is running from the project root)\n",
    "from src.data_loader import load_config, load_raw\n",
    "from src.model_train import train_model\n",
    "\n",
    "print(\"Modules imported successfully.\")"
   ]
  },
  {
   "cell_type": "code",
   "execution_count": 13,
   "id": "229371ac-52c7-4b8e-bd86-b26eabd062c0",
   "metadata": {},
   "outputs": [],
   "source": [
    "# %% Load Config and Data\n",
    "config = load_config()\n",
    "df = load_raw(\"sample_sales.csv\")"
   ]
  },
  {
   "cell_type": "code",
   "execution_count": 7,
   "id": "4210f33e-9d78-4a07-b73d-ccadd9889a08",
   "metadata": {},
   "outputs": [
    {
     "name": "stdout",
     "output_type": "stream",
     "text": [
      "Data loaded. Shape: (2000, 16)\n",
      "Config loaded:\n",
      "{'data': {'raw': 'data/raw', 'processed': 'data/processed'}, 'training': {'random_seed': 42, 'test_size': 0.2, 'smote': True, 'model': {'type': 'xgboost', 'params': {'n_estimators': 200, 'learning_rate': 0.1, 'max_depth': 6}}}}\n"
     ]
    }
   ],
   "source": [
    "print(f\"Data loaded. Shape: {df.shape}\")\n",
    "print(\"Config loaded:\")\n",
    "print(config)"
   ]
  },
  {
   "cell_type": "code",
   "execution_count": 8,
   "id": "d8d2ef7f-112a-4f6a-b0cb-51c246612a78",
   "metadata": {},
   "outputs": [],
   "source": [
    "# %% Define Features and Target\n",
    "X = df.drop(\"target\", axis=1)\n",
    "y = df[\"target\"]"
   ]
  },
  {
   "cell_type": "code",
   "execution_count": 9,
   "id": "e80e97b2-5894-4ce2-985d-b063eec296ce",
   "metadata": {},
   "outputs": [
    {
     "name": "stdout",
     "output_type": "stream",
     "text": [
      "Features (X) shape: (2000, 15)\n",
      "Target (y) shape: (2000,)\n"
     ]
    }
   ],
   "source": [
    "print(f\"Features (X) shape: {X.shape}\")\n",
    "print(f\"Target (y) shape: {y.shape}\")"
   ]
  },
  {
   "cell_type": "code",
   "execution_count": 14,
   "id": "92dae1d3-8c6b-465b-a194-c8537b9ce64d",
   "metadata": {},
   "outputs": [
    {
     "name": "stdout",
     "output_type": "stream",
     "text": [
      "Starting MLflow run...\n",
      "Training XGBoost model...\n"
     ]
    },
    {
     "name": "stderr",
     "output_type": "stream",
     "text": [
      "2025/10/27 22:40:23 WARNING mlflow.models.model: `artifact_path` is deprecated. Please use `name` instead.\n"
     ]
    },
    {
     "name": "stdout",
     "output_type": "stream",
     "text": [
      "Evaluating model on test set...\n",
      "              precision    recall  f1-score   support\n",
      "\n",
      "           0       0.96      0.99      0.97       378\n",
      "           1       0.58      0.32      0.41        22\n",
      "\n",
      "    accuracy                           0.95       400\n",
      "   macro avg       0.77      0.65      0.69       400\n",
      "weighted avg       0.94      0.95      0.94       400\n",
      "\n"
     ]
    },
    {
     "name": "stderr",
     "output_type": "stream",
     "text": [
      "2025/10/27 22:40:34 WARNING mlflow.models.model: Model logged without a signature and input example. Please set `input_example` parameter when logging the model to auto infer the model signature.\n"
     ]
    },
    {
     "name": "stdout",
     "output_type": "stream",
     "text": [
      "\n",
      "--- MLflow Run Complete ---\n",
      "Logged Parameters, Metrics, and Model.\n",
      "Run `mlflow ui` in your terminal to see results.\n"
     ]
    }
   ],
   "source": [
    "# %% --- Run MLflow Experiment ---\n",
    "# This is the main experiment cell\n",
    "\n",
    "# 1. Set the experiment name\n",
    "mlflow.set_experiment(\"Sales Prediction (SMOTE)\")\n",
    "\n",
    "# 2. Start an MLflow run\n",
    "with mlflow.start_run(run_name=\"Third_XGB_NO_SMOTE_FIX\"):\n",
    "    \n",
    "    print(\"Starting MLflow run...\")\n",
    "    \n",
    "    # 3. Log parameters from our config.yaml\n",
    "    # We log the 'training' section\n",
    "    mlflow.log_params(config['training'])\n",
    "    \n",
    "    # 4. Train the model using our src module\n",
    "    # This now returns the model AND the metrics dict\n",
    "    model, metrics = train_model(X, y, config)\n",
    "    \n",
    "    # 5. Log the metrics\n",
    "    mlflow.log_metrics(metrics)\n",
    "    \n",
    "    # 6. Log the model itself\n",
    "    mlflow.sklearn.log_model(model, \"model\")\n",
    "    \n",
    "    # 7. Log a tag to make it easy to find\n",
    "    mlflow.set_tag(\"model_type\", \"XGBoost\")\n",
    "    \n",
    "    print(\"\\n--- MLflow Run Complete ---\")\n",
    "    print(\"Logged Parameters, Metrics, and Model.\")\n",
    "    print(\"Run `mlflow ui` in your terminal to see results.\")"
   ]
  },
  {
   "cell_type": "code",
   "execution_count": null,
   "id": "ce0fcf50-dc33-487b-be2d-1542afac9310",
   "metadata": {},
   "outputs": [],
   "source": []
  }
 ],
 "metadata": {
  "kernelspec": {
   "display_name": "Python 3 (ipykernel)",
   "language": "python",
   "name": "python3"
  },
  "language_info": {
   "codemirror_mode": {
    "name": "ipython",
    "version": 3
   },
   "file_extension": ".py",
   "mimetype": "text/x-python",
   "name": "python",
   "nbconvert_exporter": "python",
   "pygments_lexer": "ipython3",
   "version": "3.11.4"
  }
 },
 "nbformat": 4,
 "nbformat_minor": 5
}
